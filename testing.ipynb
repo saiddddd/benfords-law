{
 "cells": [
  {
   "cell_type": "code",
   "execution_count": 2,
   "metadata": {
    "ExecuteTime": {
     "end_time": "2021-07-21T20:51:00.354538Z",
     "start_time": "2021-07-21T20:51:00.349988Z"
    }
   },
   "outputs": [],
   "source": [
    "import pandas as pd\n",
    "import numpy as np\n",
    "from scipy import stats \n",
    "import matplotlib.pyplot as plt\n",
    "from pyspark.sql import SparkSession\n",
    "from pyspark import SparkConf\n",
    "from pyspark.sql.functions import udf\n",
    "from pyspark.sql.types import StringType, DoubleType\n",
    "from pyspark.sql.types import *\n",
    "from pyspark.sql.functions import col\n",
    "from pyspark.sql.functions import datediff, to_date, lit\n",
    "from datetime import datetime, timedelta\n",
    "import datetime"
   ]
  },
  {
   "cell_type": "code",
   "execution_count": 4,
   "metadata": {
    "ExecuteTime": {
     "end_time": "2021-07-21T20:51:15.609901Z",
     "start_time": "2021-07-21T20:51:15.605606Z"
    }
   },
   "outputs": [],
   "source": [
    "from pyspark import SparkConf\n",
    "from pyspark.sql import SparkSession\n",
    "from pyspark.sql.functions import isnan, when, count, col\n",
    "conf = SparkConf()\n",
    "\n",
    "conf = conf.set(\"spark.executor.instances\", 10)\n",
    "conf = conf.set(\"spark.executor.memory\",\"16g\")\n",
    "conf = conf.set(\"spark.executor.cores\",2)\n",
    "conf = conf.set(\"spark.jars\",\"/home/cdsw/P93719-Said/business-development/libraries/jdbc/db2jcc4.jar\")\n",
    "appName=\"checking\""
   ]
  },
  {
   "cell_type": "code",
   "execution_count": 5,
   "metadata": {
    "ExecuteTime": {
     "end_time": "2021-07-21T20:51:39.985558Z",
     "start_time": "2021-07-21T20:51:25.335029Z"
    }
   },
   "outputs": [],
   "source": [
    "spark = SparkSession \\\n",
    "    .builder.config(conf=conf) \\\n",
    "    .appName(appName) \\\n",
    "    .config('spark.dynamicAllocation.enabled', 'false') \\\n",
    "    .config(\"spark.blacklist.enabled\", 'false') \\\n",
    "    .config(\"spark.rpc.message.maxSize\", '256') \\\n",
    "    .config(\"spark.sql.legacy.allowCreatingManagedTableUsingNonemptyLocation\",\"true\") \\\n",
    "    .config('spark.executor.instances', '5') \\\n",
    "    .config('spark.executor.cores', '6') \\\n",
    "    .config('spark.executor.memory', '36g') \\\n",
    "    .config('spark.yarn.executor.memoryOverhead', '10g') \\\n",
    "    .config('spark.io.compression.codec', 'snappy') \\\n",
    "    .enableHiveSupport() \\\n",
    "    .getOrCreate()"
   ]
  },
  {
   "cell_type": "code",
   "execution_count": 6,
   "metadata": {
    "ExecuteTime": {
     "end_time": "2021-07-21T20:51:46.050519Z",
     "start_time": "2021-07-21T20:51:46.040832Z"
    }
   },
   "outputs": [
    {
     "data": {
      "text/html": [
       "\n",
       "            <div>\n",
       "                <p><b>SparkSession - hive</b></p>\n",
       "                \n",
       "        <div>\n",
       "            <p><b>SparkContext</b></p>\n",
       "\n",
       "            <p><a href=\"http://10.251.5.52:20049\">Spark UI</a></p>\n",
       "\n",
       "            <dl>\n",
       "              <dt>Version</dt>\n",
       "                <dd><code>v2.4.0-cdh6.3.4</code></dd>\n",
       "              <dt>Master</dt>\n",
       "                <dd><code>yarn</code></dd>\n",
       "              <dt>AppName</dt>\n",
       "                <dd><code>checking</code></dd>\n",
       "            </dl>\n",
       "        </div>\n",
       "        \n",
       "            </div>\n",
       "        "
      ],
      "text/plain": [
       "<pyspark.sql.session.SparkSession at 0x7f5bc0fc4a20>"
      ]
     },
     "execution_count": 6,
     "metadata": {},
     "output_type": "execute_result"
    }
   ],
   "source": [
    "spark"
   ]
  },
  {
   "cell_type": "code",
   "execution_count": 7,
   "metadata": {
    "ExecuteTime": {
     "end_time": "2021-07-21T20:52:45.127355Z",
     "start_time": "2021-07-21T20:52:45.027854Z"
    }
   },
   "outputs": [],
   "source": [
    "data = pd.read_csv(\"test.csv\", encoding = \"ISO-8859-1\")\n",
    "data = data[['STNAME', 'CTYNAME', 'CENSUS2010POP']]\n",
    "data.rename(columns={'CENSUS2010POP' : 'jml'}, inplace = True)\n",
    "data.drop(index=data.index[0], \n",
    "        axis=0, \n",
    "        inplace=True)"
   ]
  },
  {
   "cell_type": "code",
   "execution_count": 8,
   "metadata": {
    "ExecuteTime": {
     "end_time": "2021-07-21T20:52:50.972005Z",
     "start_time": "2021-07-21T20:52:50.962611Z"
    }
   },
   "outputs": [
    {
     "data": {
      "text/html": [
       "<div>\n",
       "<style scoped>\n",
       "    .dataframe tbody tr th:only-of-type {\n",
       "        vertical-align: middle;\n",
       "    }\n",
       "\n",
       "    .dataframe tbody tr th {\n",
       "        vertical-align: top;\n",
       "    }\n",
       "\n",
       "    .dataframe thead th {\n",
       "        text-align: right;\n",
       "    }\n",
       "</style>\n",
       "<table border=\"1\" class=\"dataframe\">\n",
       "  <thead>\n",
       "    <tr style=\"text-align: right;\">\n",
       "      <th></th>\n",
       "      <th>STNAME</th>\n",
       "      <th>CTYNAME</th>\n",
       "      <th>jml</th>\n",
       "    </tr>\n",
       "  </thead>\n",
       "  <tbody>\n",
       "    <tr>\n",
       "      <th>1</th>\n",
       "      <td>Alabama</td>\n",
       "      <td>Autauga County</td>\n",
       "      <td>54571</td>\n",
       "    </tr>\n",
       "    <tr>\n",
       "      <th>2</th>\n",
       "      <td>Alabama</td>\n",
       "      <td>Baldwin County</td>\n",
       "      <td>182265</td>\n",
       "    </tr>\n",
       "    <tr>\n",
       "      <th>3</th>\n",
       "      <td>Alabama</td>\n",
       "      <td>Barbour County</td>\n",
       "      <td>27457</td>\n",
       "    </tr>\n",
       "  </tbody>\n",
       "</table>\n",
       "</div>"
      ],
      "text/plain": [
       "    STNAME         CTYNAME     jml\n",
       "1  Alabama  Autauga County   54571\n",
       "2  Alabama  Baldwin County  182265\n",
       "3  Alabama  Barbour County   27457"
      ]
     },
     "execution_count": 8,
     "metadata": {},
     "output_type": "execute_result"
    }
   ],
   "source": [
    "data.head(3)"
   ]
  },
  {
   "cell_type": "code",
   "execution_count": 9,
   "metadata": {
    "ExecuteTime": {
     "end_time": "2021-07-21T20:53:09.612271Z",
     "start_time": "2021-07-21T20:53:08.211720Z"
    }
   },
   "outputs": [],
   "source": [
    "sp_data = spark.createDataFrame(data)"
   ]
  },
  {
   "cell_type": "code",
   "execution_count": 10,
   "metadata": {
    "ExecuteTime": {
     "end_time": "2021-07-21T20:53:20.679250Z",
     "start_time": "2021-07-21T20:53:17.367548Z"
    }
   },
   "outputs": [
    {
     "name": "stdout",
     "output_type": "stream",
     "text": [
      "+-------+--------------+------+\n",
      "|STNAME |CTYNAME       |jml   |\n",
      "+-------+--------------+------+\n",
      "|Alabama|Autauga County|54571 |\n",
      "|Alabama|Baldwin County|182265|\n",
      "|Alabama|Barbour County|27457 |\n",
      "+-------+--------------+------+\n",
      "only showing top 3 rows\n",
      "\n"
     ]
    }
   ],
   "source": [
    "sp_data.show(3,False)"
   ]
  },
  {
   "cell_type": "code",
   "execution_count": null,
   "metadata": {},
   "outputs": [],
   "source": []
  },
  {
   "cell_type": "code",
   "execution_count": 11,
   "metadata": {
    "ExecuteTime": {
     "end_time": "2021-07-21T20:53:43.666830Z",
     "start_time": "2021-07-21T20:53:43.495302Z"
    }
   },
   "outputs": [],
   "source": [
    "sp_data.registerTempTable(\"sp_data\")"
   ]
  },
  {
   "cell_type": "code",
   "execution_count": 36,
   "metadata": {
    "ExecuteTime": {
     "end_time": "2021-07-21T21:12:56.246923Z",
     "start_time": "2021-07-21T21:12:55.423100Z"
    }
   },
   "outputs": [
    {
     "name": "stdout",
     "output_type": "stream",
     "text": [
      "+----+\n",
      "|jml |\n",
      "+----+\n",
      "|3192|\n",
      "+----+\n",
      "\n"
     ]
    }
   ],
   "source": [
    "spark.sql(\"\"\" \n",
    "select sum(frekuensi) jml\n",
    "from\n",
    "                (select digit_pertama, count(1) frekuensi\n",
    "                from\n",
    "                (select *, left(jml,1) digit_pertama from sp_data)\n",
    "                group by\n",
    "                digit_pertama\n",
    "                order by\n",
    "                digit_pertama) \"\"\").show(3,False)"
   ]
  },
  {
   "cell_type": "code",
   "execution_count": 35,
   "metadata": {
    "ExecuteTime": {
     "end_time": "2021-07-21T21:12:30.256879Z",
     "start_time": "2021-07-21T21:12:28.862035Z"
    }
   },
   "outputs": [
    {
     "name": "stdout",
     "output_type": "stream",
     "text": [
      "+-------------+---------+----------------+-----------+\n",
      "|digit_pertama|frekuensi|persentasi_digit|benford_law|\n",
      "+-------------+---------+----------------+-----------+\n",
      "|1            |965      |30.23           |30.1       |\n",
      "|2            |601      |18.83           |17.6       |\n",
      "|3            |379      |11.87           |12.5       |\n",
      "|4            |311      |9.74            |9.7        |\n",
      "|5            |219      |6.86            |7.9        |\n",
      "|6            |218      |6.83            |6.7        |\n",
      "|7            |183      |5.73            |5.8        |\n",
      "|8            |156      |4.89            |5.1        |\n",
      "|9            |160      |5.01            |4.6        |\n",
      "+-------------+---------+----------------+-----------+\n",
      "\n"
     ]
    }
   ],
   "source": [
    "spark.sql(\"\"\"\n",
    "with checking as  \n",
    "                (select digit_pertama, count(1) frekuensi\n",
    "                from\n",
    "                (select *, left(jml,1) digit_pertama from sp_data)\n",
    "                group by\n",
    "                digit_pertama\n",
    "                order by\n",
    "                digit_pertama)\n",
    "\n",
    "select digit_pertama, frekuensi, round((frekuensi/s.total)*100,2) persentasi_digit, \n",
    "round(round(log(10,1 + (1/digit_pertama)),3)*100,1) benford_law\n",
    "from checking\n",
    "cross join (select sum(frekuensi) as total from checking) s\n",
    "\n",
    "\"\"\").show(30,False)"
   ]
  },
  {
   "cell_type": "code",
   "execution_count": 37,
   "metadata": {
    "ExecuteTime": {
     "end_time": "2021-07-21T21:14:08.207456Z",
     "start_time": "2021-07-21T21:14:06.910068Z"
    }
   },
   "outputs": [],
   "source": [
    "pd_final = spark.sql(\"\"\"\n",
    "with checking as  \n",
    "                (select digit_pertama, count(1) frekuensi\n",
    "                from\n",
    "                (select *, left(jml,1) digit_pertama from sp_data)\n",
    "                group by\n",
    "                digit_pertama\n",
    "                order by\n",
    "                digit_pertama)\n",
    "\n",
    "select digit_pertama, frekuensi, round((frekuensi/s.total)*100,2) persentasi_digit, \n",
    "round(round(log(10,1 + (1/digit_pertama)),3)*100,1) benford_law\n",
    "from checking\n",
    "cross join (select sum(frekuensi) as total from checking) s\n",
    "\n",
    "\"\"\").persist().toPandas()"
   ]
  },
  {
   "cell_type": "code",
   "execution_count": 38,
   "metadata": {
    "ExecuteTime": {
     "end_time": "2021-07-21T21:14:16.272787Z",
     "start_time": "2021-07-21T21:14:16.261003Z"
    }
   },
   "outputs": [
    {
     "data": {
      "text/html": [
       "<div>\n",
       "<style scoped>\n",
       "    .dataframe tbody tr th:only-of-type {\n",
       "        vertical-align: middle;\n",
       "    }\n",
       "\n",
       "    .dataframe tbody tr th {\n",
       "        vertical-align: top;\n",
       "    }\n",
       "\n",
       "    .dataframe thead th {\n",
       "        text-align: right;\n",
       "    }\n",
       "</style>\n",
       "<table border=\"1\" class=\"dataframe\">\n",
       "  <thead>\n",
       "    <tr style=\"text-align: right;\">\n",
       "      <th></th>\n",
       "      <th>digit_pertama</th>\n",
       "      <th>frekuensi</th>\n",
       "      <th>persentasi_digit</th>\n",
       "      <th>benford_law</th>\n",
       "    </tr>\n",
       "  </thead>\n",
       "  <tbody>\n",
       "    <tr>\n",
       "      <th>0</th>\n",
       "      <td>1</td>\n",
       "      <td>965</td>\n",
       "      <td>30.23</td>\n",
       "      <td>30.1</td>\n",
       "    </tr>\n",
       "    <tr>\n",
       "      <th>1</th>\n",
       "      <td>2</td>\n",
       "      <td>601</td>\n",
       "      <td>18.83</td>\n",
       "      <td>17.6</td>\n",
       "    </tr>\n",
       "    <tr>\n",
       "      <th>2</th>\n",
       "      <td>3</td>\n",
       "      <td>379</td>\n",
       "      <td>11.87</td>\n",
       "      <td>12.5</td>\n",
       "    </tr>\n",
       "    <tr>\n",
       "      <th>3</th>\n",
       "      <td>4</td>\n",
       "      <td>311</td>\n",
       "      <td>9.74</td>\n",
       "      <td>9.7</td>\n",
       "    </tr>\n",
       "    <tr>\n",
       "      <th>4</th>\n",
       "      <td>5</td>\n",
       "      <td>219</td>\n",
       "      <td>6.86</td>\n",
       "      <td>7.9</td>\n",
       "    </tr>\n",
       "    <tr>\n",
       "      <th>5</th>\n",
       "      <td>6</td>\n",
       "      <td>218</td>\n",
       "      <td>6.83</td>\n",
       "      <td>6.7</td>\n",
       "    </tr>\n",
       "    <tr>\n",
       "      <th>6</th>\n",
       "      <td>7</td>\n",
       "      <td>183</td>\n",
       "      <td>5.73</td>\n",
       "      <td>5.8</td>\n",
       "    </tr>\n",
       "    <tr>\n",
       "      <th>7</th>\n",
       "      <td>8</td>\n",
       "      <td>156</td>\n",
       "      <td>4.89</td>\n",
       "      <td>5.1</td>\n",
       "    </tr>\n",
       "    <tr>\n",
       "      <th>8</th>\n",
       "      <td>9</td>\n",
       "      <td>160</td>\n",
       "      <td>5.01</td>\n",
       "      <td>4.6</td>\n",
       "    </tr>\n",
       "  </tbody>\n",
       "</table>\n",
       "</div>"
      ],
      "text/plain": [
       "  digit_pertama  frekuensi  persentasi_digit  benford_law\n",
       "0             1        965             30.23         30.1\n",
       "1             2        601             18.83         17.6\n",
       "2             3        379             11.87         12.5\n",
       "3             4        311              9.74          9.7\n",
       "4             5        219              6.86          7.9\n",
       "5             6        218              6.83          6.7\n",
       "6             7        183              5.73          5.8\n",
       "7             8        156              4.89          5.1\n",
       "8             9        160              5.01          4.6"
      ]
     },
     "execution_count": 38,
     "metadata": {},
     "output_type": "execute_result"
    }
   ],
   "source": [
    "pd_final"
   ]
  },
  {
   "cell_type": "code",
   "execution_count": 40,
   "metadata": {
    "ExecuteTime": {
     "end_time": "2021-07-21T21:44:01.379200Z",
     "start_time": "2021-07-21T21:44:01.227241Z"
    }
   },
   "outputs": [
    {
     "data": {
      "image/png": "[encoded data removed]",
      "text/plain": [
       "<Figure size 432x288 with 1 Axes>"
      ]
     },
     "metadata": {
      "needs_background": "light"
     },
     "output_type": "display_data"
    }
   ],
   "source": [
    "import matplotlib.pyplot as plt\n",
    "fig = plt.figure()\n",
    "ax = fig.add_axes([0,0,1,1])\n",
    "digit = pd_final.digit_pertama\n",
    "persentasi = pd_final.persentasi_digit\n",
    "ax.bar(digit, persentasi)\n",
    "plt.show()"
   ]
  },
  {
   "cell_type": "code",
   "execution_count": 44,
   "metadata": {
    "ExecuteTime": {
     "end_time": "2021-07-21T22:29:22.692786Z",
     "start_time": "2021-07-21T22:29:22.688247Z"
    }
   },
   "outputs": [],
   "source": [
    "pd_final = pd_final.set_index('digit_pertama')"
   ]
  },
  {
   "cell_type": "code",
   "execution_count": 45,
   "metadata": {
    "ExecuteTime": {
     "end_time": "2021-07-21T22:29:24.043070Z",
     "start_time": "2021-07-21T22:29:24.033251Z"
    }
   },
   "outputs": [
    {
     "data": {
      "text/html": [
       "<div>\n",
       "<style scoped>\n",
       "    .dataframe tbody tr th:only-of-type {\n",
       "        vertical-align: middle;\n",
       "    }\n",
       "\n",
       "    .dataframe tbody tr th {\n",
       "        vertical-align: top;\n",
       "    }\n",
       "\n",
       "    .dataframe thead th {\n",
       "        text-align: right;\n",
       "    }\n",
       "</style>\n",
       "<table border=\"1\" class=\"dataframe\">\n",
       "  <thead>\n",
       "    <tr style=\"text-align: right;\">\n",
       "      <th></th>\n",
       "      <th>frekuensi</th>\n",
       "      <th>persentasi_digit</th>\n",
       "      <th>benford_law</th>\n",
       "    </tr>\n",
       "    <tr>\n",
       "      <th>digit_pertama</th>\n",
       "      <th></th>\n",
       "      <th></th>\n",
       "      <th></th>\n",
       "    </tr>\n",
       "  </thead>\n",
       "  <tbody>\n",
       "    <tr>\n",
       "      <th>1</th>\n",
       "      <td>965</td>\n",
       "      <td>30.23</td>\n",
       "      <td>30.1</td>\n",
       "    </tr>\n",
       "    <tr>\n",
       "      <th>2</th>\n",
       "      <td>601</td>\n",
       "      <td>18.83</td>\n",
       "      <td>17.6</td>\n",
       "    </tr>\n",
       "    <tr>\n",
       "      <th>3</th>\n",
       "      <td>379</td>\n",
       "      <td>11.87</td>\n",
       "      <td>12.5</td>\n",
       "    </tr>\n",
       "    <tr>\n",
       "      <th>4</th>\n",
       "      <td>311</td>\n",
       "      <td>9.74</td>\n",
       "      <td>9.7</td>\n",
       "    </tr>\n",
       "    <tr>\n",
       "      <th>5</th>\n",
       "      <td>219</td>\n",
       "      <td>6.86</td>\n",
       "      <td>7.9</td>\n",
       "    </tr>\n",
       "    <tr>\n",
       "      <th>6</th>\n",
       "      <td>218</td>\n",
       "      <td>6.83</td>\n",
       "      <td>6.7</td>\n",
       "    </tr>\n",
       "    <tr>\n",
       "      <th>7</th>\n",
       "      <td>183</td>\n",
       "      <td>5.73</td>\n",
       "      <td>5.8</td>\n",
       "    </tr>\n",
       "    <tr>\n",
       "      <th>8</th>\n",
       "      <td>156</td>\n",
       "      <td>4.89</td>\n",
       "      <td>5.1</td>\n",
       "    </tr>\n",
       "    <tr>\n",
       "      <th>9</th>\n",
       "      <td>160</td>\n",
       "      <td>5.01</td>\n",
       "      <td>4.6</td>\n",
       "    </tr>\n",
       "  </tbody>\n",
       "</table>\n",
       "</div>"
      ],
      "text/plain": [
       "               frekuensi  persentasi_digit  benford_law\n",
       "digit_pertama                                          \n",
       "1                    965             30.23         30.1\n",
       "2                    601             18.83         17.6\n",
       "3                    379             11.87         12.5\n",
       "4                    311              9.74          9.7\n",
       "5                    219              6.86          7.9\n",
       "6                    218              6.83          6.7\n",
       "7                    183              5.73          5.8\n",
       "8                    156              4.89          5.1\n",
       "9                    160              5.01          4.6"
      ]
     },
     "execution_count": 45,
     "metadata": {},
     "output_type": "execute_result"
    }
   ],
   "source": [
    "pd_final"
   ]
  },
  {
   "cell_type": "code",
   "execution_count": 46,
   "metadata": {
    "ExecuteTime": {
     "end_time": "2021-07-21T22:29:28.401701Z",
     "start_time": "2021-07-21T22:29:28.033226Z"
    }
   },
   "outputs": [
    {
     "data": {
      "text/plain": [
       "<matplotlib.axes._subplots.AxesSubplot at 0x7f5bb3cffcf8>"
      ]
     },
     "execution_count": 46,
     "metadata": {},
     "output_type": "execute_result"
    },
    {
     "data": {
      "image/png": "[encoded data removed]",
      "text/plain": [
       "<Figure size 432x288 with 1 Axes>"
      ]
     },
     "metadata": {
      "needs_background": "light"
     },
     "output_type": "display_data"
    }
   ],
   "source": [
    "ax = pd_final.persentasi_digit.plot(kind='bar')\n",
    "pd_final.iloc[:,-1].plot(linestyle='-', marker='o', ax = ax)"
   ]
  },
  {
   "cell_type": "code",
   "execution_count": null,
   "metadata": {},
   "outputs": [],
   "source": []
  },
  {
   "cell_type": "code",
   "execution_count": null,
   "metadata": {},
   "outputs": [],
   "source": []
  },
  {
   "cell_type": "code",
   "execution_count": null,
   "metadata": {},
   "outputs": [],
   "source": []
  },
  {
   "cell_type": "code",
   "execution_count": null,
   "metadata": {},
   "outputs": [],
   "source": []
  }
 ],
 "metadata": {
  "kernelspec": {
   "display_name": "Python 3",
   "language": "python",
   "name": "python3"
  },
  "language_info": {
   "codemirror_mode": {
    "name": "ipython",
    "version": 3
   },
   "file_extension": ".py",
   "mimetype": "text/x-python",
   "name": "python",
   "nbconvert_exporter": "python",
   "pygments_lexer": "ipython3",
   "version": "3.6.8"
  },
  "toc": {
   "base_numbering": 1,
   "nav_menu": {},
   "number_sections": true,
   "sideBar": true,
   "skip_h1_title": false,
   "title_cell": "Table of Contents",
   "title_sidebar": "Contents",
   "toc_cell": false,
   "toc_position": {},
   "toc_section_display": true,
   "toc_window_display": false
  }
 },
 "nbformat": 4,
 "nbformat_minor": 2
}
